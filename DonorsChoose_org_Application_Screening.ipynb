{
  "nbformat": 4,
  "nbformat_minor": 0,
  "metadata": {
    "kernelspec": {
      "display_name": "Python 3",
      "language": "python",
      "name": "python3"
    },
    "language_info": {
      "codemirror_mode": {
        "name": "ipython",
        "version": 3
      },
      "file_extension": ".py",
      "mimetype": "text/x-python",
      "name": "python",
      "nbconvert_exporter": "python",
      "pygments_lexer": "ipython3",
      "version": "3.7.4"
    },
    "colab": {
      "name": "DonorsChoose.org Application Screening.ipynb",
      "provenance": [],
      "include_colab_link": true
    }
  },
  "cells": [
    {
      "cell_type": "markdown",
      "metadata": {
        "id": "view-in-github",
        "colab_type": "text"
      },
      "source": [
        "<a href=\"https://colab.research.google.com/github/SANAMAREEN/Project1/blob/master/DonorsChoose_org_Application_Screening.ipynb\" target=\"_parent\"><img src=\"https://colab.research.google.com/assets/colab-badge.svg\" alt=\"Open In Colab\"/></a>"
      ]
    },
    {
      "cell_type": "markdown",
      "metadata": {
        "id": "krUIjhNExyLn",
        "colab_type": "text"
      },
      "source": [
        "This Note book uses dataset from [DonorsChoose.org Application Screening](https://www.kaggle.com/c/donorschoose-application-screening/data) link\n"
      ]
    },
    {
      "cell_type": "code",
      "metadata": {
        "id": "3n8EF7uVxyLt",
        "colab_type": "code",
        "colab": {}
      },
      "source": [
        "import pandas as pd\n",
        "import numpy as np\n",
        "from tensorflow.keras import layers\n",
        "from tensorflow.keras import Input\n",
        "from tensorflow.keras.models import Model\n",
        "from tensorflow.keras.preprocessing import sequence\n",
        "from tensorflow.keras.preprocessing.text import Tokenizer\n",
        "import matplotlib.pyplot as plt"
      ],
      "execution_count": null,
      "outputs": []
    },
    {
      "cell_type": "code",
      "metadata": {
        "id": "YE8Mb_EpxyME",
        "colab_type": "code",
        "colab": {
          "base_uri": "https://localhost:8080/",
          "height": 180
        },
        "outputId": "4939b3eb-d47f-4a07-86ba-00250ef7aadc"
      },
      "source": [
        "data = pd.read_csv('./train.csv')\n",
        "data.head()"
      ],
      "execution_count": null,
      "outputs": [
        {
          "output_type": "error",
          "ename": "NameError",
          "evalue": "ignored",
          "traceback": [
            "\u001b[0;31m---------------------------------------------------------------------------\u001b[0m",
            "\u001b[0;31mNameError\u001b[0m                                 Traceback (most recent call last)",
            "\u001b[0;32m<ipython-input-1-ba6733b72caa>\u001b[0m in \u001b[0;36m<module>\u001b[0;34m()\u001b[0m\n\u001b[0;32m----> 1\u001b[0;31m \u001b[0mdata\u001b[0m \u001b[0;34m=\u001b[0m \u001b[0mpd\u001b[0m\u001b[0;34m.\u001b[0m\u001b[0mread_csv\u001b[0m\u001b[0;34m(\u001b[0m\u001b[0;34m'./train.csv'\u001b[0m\u001b[0;34m)\u001b[0m\u001b[0;34m\u001b[0m\u001b[0;34m\u001b[0m\u001b[0m\n\u001b[0m\u001b[1;32m      2\u001b[0m \u001b[0mdata\u001b[0m\u001b[0;34m.\u001b[0m\u001b[0mhead\u001b[0m\u001b[0;34m(\u001b[0m\u001b[0;34m)\u001b[0m\u001b[0;34m\u001b[0m\u001b[0;34m\u001b[0m\u001b[0m\n",
            "\u001b[0;31mNameError\u001b[0m: name 'pd' is not defined"
          ]
        }
      ]
    },
    {
      "cell_type": "code",
      "metadata": {
        "id": "PAoQdaquxyMZ",
        "colab_type": "code",
        "colab": {},
        "outputId": "161ab499-36c2-43ae-caf1-5f4aad492b81"
      },
      "source": [
        "resources = pd.read_csv('./resources.csv')\n",
        "resources"
      ],
      "execution_count": null,
      "outputs": [
        {
          "output_type": "execute_result",
          "data": {
            "text/html": [
              "<div>\n",
              "<style scoped>\n",
              "    .dataframe tbody tr th:only-of-type {\n",
              "        vertical-align: middle;\n",
              "    }\n",
              "\n",
              "    .dataframe tbody tr th {\n",
              "        vertical-align: top;\n",
              "    }\n",
              "\n",
              "    .dataframe thead th {\n",
              "        text-align: right;\n",
              "    }\n",
              "</style>\n",
              "<table border=\"1\" class=\"dataframe\">\n",
              "  <thead>\n",
              "    <tr style=\"text-align: right;\">\n",
              "      <th></th>\n",
              "      <th>id</th>\n",
              "      <th>description</th>\n",
              "      <th>quantity</th>\n",
              "      <th>price</th>\n",
              "    </tr>\n",
              "  </thead>\n",
              "  <tbody>\n",
              "    <tr>\n",
              "      <td>0</td>\n",
              "      <td>p233245</td>\n",
              "      <td>LC652 - Lakeshore Double-Space Mobile Drying Rack</td>\n",
              "      <td>1</td>\n",
              "      <td>149.00</td>\n",
              "    </tr>\n",
              "    <tr>\n",
              "      <td>1</td>\n",
              "      <td>p069063</td>\n",
              "      <td>Bouncy Bands for Desks (Blue support pipes)</td>\n",
              "      <td>3</td>\n",
              "      <td>14.95</td>\n",
              "    </tr>\n",
              "    <tr>\n",
              "      <td>2</td>\n",
              "      <td>p069063</td>\n",
              "      <td>Cory Stories: A Kid's Book About Living With Adhd</td>\n",
              "      <td>1</td>\n",
              "      <td>8.45</td>\n",
              "    </tr>\n",
              "    <tr>\n",
              "      <td>3</td>\n",
              "      <td>p069063</td>\n",
              "      <td>Dixon Ticonderoga Wood-Cased #2 HB Pencils, Bo...</td>\n",
              "      <td>2</td>\n",
              "      <td>13.59</td>\n",
              "    </tr>\n",
              "    <tr>\n",
              "      <td>4</td>\n",
              "      <td>p069063</td>\n",
              "      <td>EDUCATIONAL INSIGHTS FLUORESCENT LIGHT FILTERS...</td>\n",
              "      <td>3</td>\n",
              "      <td>24.95</td>\n",
              "    </tr>\n",
              "    <tr>\n",
              "      <td>...</td>\n",
              "      <td>...</td>\n",
              "      <td>...</td>\n",
              "      <td>...</td>\n",
              "      <td>...</td>\n",
              "    </tr>\n",
              "    <tr>\n",
              "      <td>1541267</td>\n",
              "      <td>p031981</td>\n",
              "      <td>AmazonBasics 9 Volt Everyday Alkaline Batterie...</td>\n",
              "      <td>1</td>\n",
              "      <td>9.99</td>\n",
              "    </tr>\n",
              "    <tr>\n",
              "      <td>1541268</td>\n",
              "      <td>p031981</td>\n",
              "      <td>AmazonBasics AAA Performance Alkaline Batterie...</td>\n",
              "      <td>1</td>\n",
              "      <td>6.99</td>\n",
              "    </tr>\n",
              "    <tr>\n",
              "      <td>1541269</td>\n",
              "      <td>p031981</td>\n",
              "      <td>Black Electrical Tape (GIANT 3 PACK) Each Roll...</td>\n",
              "      <td>6</td>\n",
              "      <td>8.99</td>\n",
              "    </tr>\n",
              "    <tr>\n",
              "      <td>1541270</td>\n",
              "      <td>p031981</td>\n",
              "      <td>Flormoon DC Motor Mini Electric Motor 0.5-3V 1...</td>\n",
              "      <td>2</td>\n",
              "      <td>8.14</td>\n",
              "    </tr>\n",
              "    <tr>\n",
              "      <td>1541271</td>\n",
              "      <td>p031981</td>\n",
              "      <td>WAYLLSHINE 6PCS 2 x 1.5V AAA Battery Spring Cl...</td>\n",
              "      <td>2</td>\n",
              "      <td>7.39</td>\n",
              "    </tr>\n",
              "  </tbody>\n",
              "</table>\n",
              "<p>1541272 rows × 4 columns</p>\n",
              "</div>"
            ],
            "text/plain": [
              "              id                                        description  quantity  \\\n",
              "0        p233245  LC652 - Lakeshore Double-Space Mobile Drying Rack         1   \n",
              "1        p069063        Bouncy Bands for Desks (Blue support pipes)         3   \n",
              "2        p069063  Cory Stories: A Kid's Book About Living With Adhd         1   \n",
              "3        p069063  Dixon Ticonderoga Wood-Cased #2 HB Pencils, Bo...         2   \n",
              "4        p069063  EDUCATIONAL INSIGHTS FLUORESCENT LIGHT FILTERS...         3   \n",
              "...          ...                                                ...       ...   \n",
              "1541267  p031981  AmazonBasics 9 Volt Everyday Alkaline Batterie...         1   \n",
              "1541268  p031981  AmazonBasics AAA Performance Alkaline Batterie...         1   \n",
              "1541269  p031981  Black Electrical Tape (GIANT 3 PACK) Each Roll...         6   \n",
              "1541270  p031981  Flormoon DC Motor Mini Electric Motor 0.5-3V 1...         2   \n",
              "1541271  p031981  WAYLLSHINE 6PCS 2 x 1.5V AAA Battery Spring Cl...         2   \n",
              "\n",
              "          price  \n",
              "0        149.00  \n",
              "1         14.95  \n",
              "2          8.45  \n",
              "3         13.59  \n",
              "4         24.95  \n",
              "...         ...  \n",
              "1541267    9.99  \n",
              "1541268    6.99  \n",
              "1541269    8.99  \n",
              "1541270    8.14  \n",
              "1541271    7.39  \n",
              "\n",
              "[1541272 rows x 4 columns]"
            ]
          },
          "metadata": {
            "tags": []
          },
          "execution_count": 3
        }
      ]
    },
    {
      "cell_type": "code",
      "metadata": {
        "id": "nV05P2W1xyMn",
        "colab_type": "code",
        "colab": {}
      },
      "source": [
        "filtered_data = data[['teacher_prefix', 'school_state', 'project_grade_category', 'project_subject_categories',\n",
        "                      'project_subject_subcategories', 'project_essay_1', 'project_resource_summary',\n",
        "                      'teacher_number_of_previously_posted_projects', 'project_is_approved']]"
      ],
      "execution_count": null,
      "outputs": []
    },
    {
      "cell_type": "code",
      "metadata": {
        "id": "RVfA8_JZxyMx",
        "colab_type": "code",
        "colab": {},
        "outputId": "079fb546-d7cd-4497-c144-230aea3140a7"
      },
      "source": [
        "filtered_data.info()"
      ],
      "execution_count": null,
      "outputs": [
        {
          "output_type": "stream",
          "text": [
            "<class 'pandas.core.frame.DataFrame'>\n",
            "RangeIndex: 182080 entries, 0 to 182079\n",
            "Data columns (total 9 columns):\n",
            "teacher_prefix                                  182076 non-null object\n",
            "school_state                                    182080 non-null object\n",
            "project_grade_category                          182080 non-null object\n",
            "project_subject_categories                      182080 non-null object\n",
            "project_subject_subcategories                   182080 non-null object\n",
            "project_essay_1                                 182080 non-null object\n",
            "project_resource_summary                        182080 non-null object\n",
            "teacher_number_of_previously_posted_projects    182080 non-null int64\n",
            "project_is_approved                             182080 non-null int64\n",
            "dtypes: int64(2), object(7)\n",
            "memory usage: 12.5+ MB\n"
          ],
          "name": "stdout"
        }
      ]
    },
    {
      "cell_type": "code",
      "metadata": {
        "id": "O8fFGe7XxyM7",
        "colab_type": "code",
        "colab": {}
      },
      "source": [
        "filtered_data_cat = pd.DataFrame()\n",
        "for column in filtered_data.columns:\n",
        "    if column in ['teacher_prefix', 'school_state', 'project_grade_category', 'project_subject_categories', 'project_subject_subcategories']:\n",
        "        filtered_data_cat[column] = filtered_data[column].astype('category')\n",
        "    else:\n",
        "        filtered_data_cat[column] = filtered_data[column]\n"
      ],
      "execution_count": null,
      "outputs": []
    },
    {
      "cell_type": "code",
      "metadata": {
        "id": "kwAxH3mgxyNK",
        "colab_type": "code",
        "colab": {},
        "outputId": "ccb6571a-4c7a-4b27-bf8b-cb0e454ca135"
      },
      "source": [
        "filtered_data_cat.info()"
      ],
      "execution_count": null,
      "outputs": [
        {
          "output_type": "stream",
          "text": [
            "<class 'pandas.core.frame.DataFrame'>\n",
            "RangeIndex: 182080 entries, 0 to 182079\n",
            "Data columns (total 9 columns):\n",
            "teacher_prefix                                  182076 non-null category\n",
            "school_state                                    182080 non-null category\n",
            "project_grade_category                          182080 non-null category\n",
            "project_subject_categories                      182080 non-null category\n",
            "project_subject_subcategories                   182080 non-null category\n",
            "project_essay_1                                 182080 non-null object\n",
            "project_resource_summary                        182080 non-null object\n",
            "teacher_number_of_previously_posted_projects    182080 non-null int64\n",
            "project_is_approved                             182080 non-null int64\n",
            "dtypes: category(5), int64(2), object(2)\n",
            "memory usage: 6.6+ MB\n"
          ],
          "name": "stdout"
        }
      ]
    },
    {
      "cell_type": "code",
      "metadata": {
        "id": "exJzQxjmxyNW",
        "colab_type": "code",
        "colab": {},
        "outputId": "9ee86f6d-a3d5-4fcf-e0c7-5897723c8004"
      },
      "source": [
        "for column in filtered_data_cat.columns:\n",
        "    if column in ['teacher_prefix', 'school_state', 'project_grade_category', 'project_subject_categories', 'project_subject_subcategories']:\n",
        "        filtered_data[column] = filtered_data_cat[column].cat.codes\n",
        "    else:\n",
        "        filtered_data[column] = filtered_data_cat[column]"
      ],
      "execution_count": null,
      "outputs": [
        {
          "output_type": "stream",
          "text": [
            "C:\\ProgramData\\Anaconda3\\lib\\site-packages\\ipykernel_launcher.py:3: SettingWithCopyWarning: \n",
            "A value is trying to be set on a copy of a slice from a DataFrame.\n",
            "Try using .loc[row_indexer,col_indexer] = value instead\n",
            "\n",
            "See the caveats in the documentation: http://pandas.pydata.org/pandas-docs/stable/user_guide/indexing.html#returning-a-view-versus-a-copy\n",
            "  This is separate from the ipykernel package so we can avoid doing imports until\n",
            "C:\\ProgramData\\Anaconda3\\lib\\site-packages\\ipykernel_launcher.py:5: SettingWithCopyWarning: \n",
            "A value is trying to be set on a copy of a slice from a DataFrame.\n",
            "Try using .loc[row_indexer,col_indexer] = value instead\n",
            "\n",
            "See the caveats in the documentation: http://pandas.pydata.org/pandas-docs/stable/user_guide/indexing.html#returning-a-view-versus-a-copy\n",
            "  \"\"\"\n"
          ],
          "name": "stderr"
        }
      ]
    },
    {
      "cell_type": "code",
      "metadata": {
        "id": "U43y-wlZxyNj",
        "colab_type": "code",
        "colab": {},
        "outputId": "d1e65e62-1667-42cb-a710-6e9c6669e8ec"
      },
      "source": [
        "filtered_data.head()"
      ],
      "execution_count": null,
      "outputs": [
        {
          "output_type": "execute_result",
          "data": {
            "text/html": [
              "<div>\n",
              "<style scoped>\n",
              "    .dataframe tbody tr th:only-of-type {\n",
              "        vertical-align: middle;\n",
              "    }\n",
              "\n",
              "    .dataframe tbody tr th {\n",
              "        vertical-align: top;\n",
              "    }\n",
              "\n",
              "    .dataframe thead th {\n",
              "        text-align: right;\n",
              "    }\n",
              "</style>\n",
              "<table border=\"1\" class=\"dataframe\">\n",
              "  <thead>\n",
              "    <tr style=\"text-align: right;\">\n",
              "      <th></th>\n",
              "      <th>teacher_prefix</th>\n",
              "      <th>school_state</th>\n",
              "      <th>project_grade_category</th>\n",
              "      <th>project_subject_categories</th>\n",
              "      <th>project_subject_subcategories</th>\n",
              "      <th>project_essay_1</th>\n",
              "      <th>project_resource_summary</th>\n",
              "      <th>teacher_number_of_previously_posted_projects</th>\n",
              "      <th>project_is_approved</th>\n",
              "    </tr>\n",
              "  </thead>\n",
              "  <tbody>\n",
              "    <tr>\n",
              "      <td>0</td>\n",
              "      <td>3</td>\n",
              "      <td>33</td>\n",
              "      <td>3</td>\n",
              "      <td>24</td>\n",
              "      <td>321</td>\n",
              "      <td>Most of my kindergarten students come from low...</td>\n",
              "      <td>My students need 6 Ipod Nano's to create and d...</td>\n",
              "      <td>26</td>\n",
              "      <td>1</td>\n",
              "    </tr>\n",
              "    <tr>\n",
              "      <td>1</td>\n",
              "      <td>2</td>\n",
              "      <td>10</td>\n",
              "      <td>0</td>\n",
              "      <td>42</td>\n",
              "      <td>392</td>\n",
              "      <td>Our elementary school is a culturally rich sch...</td>\n",
              "      <td>My students need matching shirts to wear for d...</td>\n",
              "      <td>1</td>\n",
              "      <td>0</td>\n",
              "    </tr>\n",
              "    <tr>\n",
              "      <td>2</td>\n",
              "      <td>3</td>\n",
              "      <td>44</td>\n",
              "      <td>0</td>\n",
              "      <td>36</td>\n",
              "      <td>17</td>\n",
              "      <td>Hello;\\r\\nMy name is Mrs. Brotherton. I teach ...</td>\n",
              "      <td>My students need the 3doodler. We are an SEM s...</td>\n",
              "      <td>5</td>\n",
              "      <td>1</td>\n",
              "    </tr>\n",
              "    <tr>\n",
              "      <td>3</td>\n",
              "      <td>1</td>\n",
              "      <td>27</td>\n",
              "      <td>0</td>\n",
              "      <td>8</td>\n",
              "      <td>293</td>\n",
              "      <td>My students are the greatest students but are ...</td>\n",
              "      <td>My students need balls and other activity equi...</td>\n",
              "      <td>16</td>\n",
              "      <td>0</td>\n",
              "    </tr>\n",
              "    <tr>\n",
              "      <td>4</td>\n",
              "      <td>1</td>\n",
              "      <td>4</td>\n",
              "      <td>1</td>\n",
              "      <td>8</td>\n",
              "      <td>293</td>\n",
              "      <td>My students are athletes and students who are ...</td>\n",
              "      <td>My students need a water filtration system for...</td>\n",
              "      <td>42</td>\n",
              "      <td>1</td>\n",
              "    </tr>\n",
              "  </tbody>\n",
              "</table>\n",
              "</div>"
            ],
            "text/plain": [
              "   teacher_prefix  school_state  project_grade_category  \\\n",
              "0               3            33                       3   \n",
              "1               2            10                       0   \n",
              "2               3            44                       0   \n",
              "3               1            27                       0   \n",
              "4               1             4                       1   \n",
              "\n",
              "   project_subject_categories  project_subject_subcategories  \\\n",
              "0                          24                            321   \n",
              "1                          42                            392   \n",
              "2                          36                             17   \n",
              "3                           8                            293   \n",
              "4                           8                            293   \n",
              "\n",
              "                                     project_essay_1  \\\n",
              "0  Most of my kindergarten students come from low...   \n",
              "1  Our elementary school is a culturally rich sch...   \n",
              "2  Hello;\\r\\nMy name is Mrs. Brotherton. I teach ...   \n",
              "3  My students are the greatest students but are ...   \n",
              "4  My students are athletes and students who are ...   \n",
              "\n",
              "                            project_resource_summary  \\\n",
              "0  My students need 6 Ipod Nano's to create and d...   \n",
              "1  My students need matching shirts to wear for d...   \n",
              "2  My students need the 3doodler. We are an SEM s...   \n",
              "3  My students need balls and other activity equi...   \n",
              "4  My students need a water filtration system for...   \n",
              "\n",
              "   teacher_number_of_previously_posted_projects  project_is_approved  \n",
              "0                                            26                    1  \n",
              "1                                             1                    0  \n",
              "2                                             5                    1  \n",
              "3                                            16                    0  \n",
              "4                                            42                    1  "
            ]
          },
          "metadata": {
            "tags": []
          },
          "execution_count": 9
        }
      ]
    },
    {
      "cell_type": "code",
      "metadata": {
        "id": "tr98GLyUxyNs",
        "colab_type": "code",
        "colab": {},
        "outputId": "f86b3f85-9f5e-47a6-afc6-6b855d19bf1e"
      },
      "source": [
        "data_dense_model = filtered_data[['teacher_prefix', 'school_state', 'project_grade_category', 'project_subject_categories', 'project_subject_subcategories']]\n",
        "outputs = filtered_data['project_is_approved']\n",
        "data_dense_model.head()"
      ],
      "execution_count": null,
      "outputs": [
        {
          "output_type": "execute_result",
          "data": {
            "text/html": [
              "<div>\n",
              "<style scoped>\n",
              "    .dataframe tbody tr th:only-of-type {\n",
              "        vertical-align: middle;\n",
              "    }\n",
              "\n",
              "    .dataframe tbody tr th {\n",
              "        vertical-align: top;\n",
              "    }\n",
              "\n",
              "    .dataframe thead th {\n",
              "        text-align: right;\n",
              "    }\n",
              "</style>\n",
              "<table border=\"1\" class=\"dataframe\">\n",
              "  <thead>\n",
              "    <tr style=\"text-align: right;\">\n",
              "      <th></th>\n",
              "      <th>teacher_prefix</th>\n",
              "      <th>school_state</th>\n",
              "      <th>project_grade_category</th>\n",
              "      <th>project_subject_categories</th>\n",
              "      <th>project_subject_subcategories</th>\n",
              "    </tr>\n",
              "  </thead>\n",
              "  <tbody>\n",
              "    <tr>\n",
              "      <td>0</td>\n",
              "      <td>3</td>\n",
              "      <td>33</td>\n",
              "      <td>3</td>\n",
              "      <td>24</td>\n",
              "      <td>321</td>\n",
              "    </tr>\n",
              "    <tr>\n",
              "      <td>1</td>\n",
              "      <td>2</td>\n",
              "      <td>10</td>\n",
              "      <td>0</td>\n",
              "      <td>42</td>\n",
              "      <td>392</td>\n",
              "    </tr>\n",
              "    <tr>\n",
              "      <td>2</td>\n",
              "      <td>3</td>\n",
              "      <td>44</td>\n",
              "      <td>0</td>\n",
              "      <td>36</td>\n",
              "      <td>17</td>\n",
              "    </tr>\n",
              "    <tr>\n",
              "      <td>3</td>\n",
              "      <td>1</td>\n",
              "      <td>27</td>\n",
              "      <td>0</td>\n",
              "      <td>8</td>\n",
              "      <td>293</td>\n",
              "    </tr>\n",
              "    <tr>\n",
              "      <td>4</td>\n",
              "      <td>1</td>\n",
              "      <td>4</td>\n",
              "      <td>1</td>\n",
              "      <td>8</td>\n",
              "      <td>293</td>\n",
              "    </tr>\n",
              "  </tbody>\n",
              "</table>\n",
              "</div>"
            ],
            "text/plain": [
              "   teacher_prefix  school_state  project_grade_category  \\\n",
              "0               3            33                       3   \n",
              "1               2            10                       0   \n",
              "2               3            44                       0   \n",
              "3               1            27                       0   \n",
              "4               1             4                       1   \n",
              "\n",
              "   project_subject_categories  project_subject_subcategories  \n",
              "0                          24                            321  \n",
              "1                          42                            392  \n",
              "2                          36                             17  \n",
              "3                           8                            293  \n",
              "4                           8                            293  "
            ]
          },
          "metadata": {
            "tags": []
          },
          "execution_count": 10
        }
      ]
    },
    {
      "cell_type": "code",
      "metadata": {
        "id": "Gsil4wKaxyN9",
        "colab_type": "code",
        "colab": {},
        "outputId": "8856d309-b012-443f-f671-ab4f54e2bea1"
      },
      "source": [
        "project_essay_1_data = filtered_data['project_essay_1']\n",
        "project_essay_1_data.head()"
      ],
      "execution_count": null,
      "outputs": [
        {
          "output_type": "execute_result",
          "data": {
            "text/plain": [
              "0    Most of my kindergarten students come from low...\n",
              "1    Our elementary school is a culturally rich sch...\n",
              "2    Hello;\\r\\nMy name is Mrs. Brotherton. I teach ...\n",
              "3    My students are the greatest students but are ...\n",
              "4    My students are athletes and students who are ...\n",
              "Name: project_essay_1, dtype: object"
            ]
          },
          "metadata": {
            "tags": []
          },
          "execution_count": 11
        }
      ]
    },
    {
      "cell_type": "code",
      "metadata": {
        "id": "24HU0h1sxyOI",
        "colab_type": "code",
        "colab": {},
        "outputId": "bf242cd1-12e5-41be-e9f7-c26cf26df314"
      },
      "source": [
        "project_resource_summary_data = filtered_data['project_resource_summary']\n",
        "project_resource_summary_data.head()"
      ],
      "execution_count": null,
      "outputs": [
        {
          "output_type": "execute_result",
          "data": {
            "text/plain": [
              "0    My students need 6 Ipod Nano's to create and d...\n",
              "1    My students need matching shirts to wear for d...\n",
              "2    My students need the 3doodler. We are an SEM s...\n",
              "3    My students need balls and other activity equi...\n",
              "4    My students need a water filtration system for...\n",
              "Name: project_resource_summary, dtype: object"
            ]
          },
          "metadata": {
            "tags": []
          },
          "execution_count": 12
        }
      ]
    },
    {
      "cell_type": "code",
      "metadata": {
        "id": "8UPsrLAnxyOV",
        "colab_type": "code",
        "colab": {}
      },
      "source": [
        "tokenizer_project_essay_1 = Tokenizer()\n",
        "tokenizer_project_essay_1.fit_on_texts(project_essay_1_data.values)\n",
        "project_essay_1_token = tokenizer_project_essay_1.texts_to_sequences(project_essay_1_data.values)\n",
        "project_essay_1_token = sequence.pad_sequences(project_essay_1_token, maxlen=200)"
      ],
      "execution_count": null,
      "outputs": []
    },
    {
      "cell_type": "code",
      "metadata": {
        "id": "f_u3DXxDxyOh",
        "colab_type": "code",
        "colab": {},
        "outputId": "3fd87ce9-acc9-4129-9bbf-b5aaf6d7a740"
      },
      "source": [
        "project_essay_1_token.shape"
      ],
      "execution_count": null,
      "outputs": [
        {
          "output_type": "execute_result",
          "data": {
            "text/plain": [
              "(182080, 200)"
            ]
          },
          "metadata": {
            "tags": []
          },
          "execution_count": 14
        }
      ]
    },
    {
      "cell_type": "code",
      "metadata": {
        "id": "fe39B5vCxyOu",
        "colab_type": "code",
        "colab": {}
      },
      "source": [
        "tokenizer_project_resource_summary = Tokenizer()\n",
        "tokenizer_project_resource_summary.fit_on_texts(project_resource_summary_data.values)\n",
        "project_resource_summary_token = tokenizer_project_resource_summary.texts_to_sequences(project_resource_summary_data.values)\n",
        "project_resource_summary_token = sequence.pad_sequences(project_essay_1_token, maxlen=200)"
      ],
      "execution_count": null,
      "outputs": []
    },
    {
      "cell_type": "code",
      "metadata": {
        "id": "d94oUat4xyO7",
        "colab_type": "code",
        "colab": {},
        "outputId": "dbfe5375-7ac3-45db-a2a9-5974a2ec4448"
      },
      "source": [
        "project_resource_summary_token.shape"
      ],
      "execution_count": null,
      "outputs": [
        {
          "output_type": "execute_result",
          "data": {
            "text/plain": [
              "(182080, 200)"
            ]
          },
          "metadata": {
            "tags": []
          },
          "execution_count": 16
        }
      ]
    },
    {
      "cell_type": "markdown",
      "metadata": {
        "id": "ZH6BI2YvxyPK",
        "colab_type": "text"
      },
      "source": [
        "# Dense Section"
      ]
    },
    {
      "cell_type": "code",
      "metadata": {
        "id": "q8U0AF8gxyPN",
        "colab_type": "code",
        "colab": {}
      },
      "source": [
        "dense_input = Input(shape=(data_dense_model.shape[1],), dtype='int32', name='dense_input')\n",
        "x = layers.Dense(64, activation='relu')(dense_input)\n",
        "x = layers.Dense(64, activation='relu')(x)\n",
        "output_dense_only = layers.Dense(1, activation='sigmoid')(x)\n",
        "last_dense = layers.Flatten()(x)"
      ],
      "execution_count": null,
      "outputs": []
    },
    {
      "cell_type": "markdown",
      "metadata": {
        "id": "Bb7bPNalxyPV",
        "colab_type": "text"
      },
      "source": [
        "# Conv 1D Section for Essay 1"
      ]
    },
    {
      "cell_type": "code",
      "metadata": {
        "id": "Z8MJCaBnxyPc",
        "colab_type": "code",
        "colab": {}
      },
      "source": [
        "project_essay_1_input = Input(shape=(None,), dtype='int32', name='project_essay_1')\n",
        "x = layers.Embedding(len(tokenizer_project_essay_1.word_index.keys()) + 1, 32, input_length=200)(project_essay_1_input)\n",
        "x = layers.Conv1D(128, 5, activation='relu')(x)\n",
        "x = layers.MaxPooling1D(5)(x)\n",
        "x = layers.Dropout(0.1)(x)\n",
        "x = layers.Conv1D(256, 5, activation='relu')(x)\n",
        "x = layers.Dropout(0.1)(x)\n",
        "x = layers.Conv1D(256, 5, activation='relu')(x)\n",
        "last_project_essay_1 = layers.GlobalMaxPooling1D()(x)"
      ],
      "execution_count": null,
      "outputs": []
    },
    {
      "cell_type": "markdown",
      "metadata": {
        "id": "gNNRj9XExyPr",
        "colab_type": "text"
      },
      "source": [
        "# Conv 1D Section For resource Summary"
      ]
    },
    {
      "cell_type": "code",
      "metadata": {
        "id": "8IoJKHq5xyPt",
        "colab_type": "code",
        "colab": {}
      },
      "source": [
        "project_resource_summary_input = Input(shape=(None,), dtype='int32', name='project_resource_summary')\n",
        "x = layers.Embedding(len(tokenizer_project_resource_summary.word_index.keys()) + 1, 32, input_length=200)(project_resource_summary_input)\n",
        "x = layers.Conv1D(128, 5, activation='relu')(x)\n",
        "x = layers.MaxPooling1D(5)(x)\n",
        "x = layers.Dropout(0.1)(x)\n",
        "x = layers.Conv1D(256, 5, activation='relu')(x)\n",
        "x = layers.Dropout(0.1)(x)\n",
        "x = layers.Conv1D(256, 5, activation='relu')(x)\n",
        "last_embedded_project_resource_summary = layers.GlobalMaxPooling1D()(x)"
      ],
      "execution_count": null,
      "outputs": []
    },
    {
      "cell_type": "markdown",
      "metadata": {
        "id": "tDwFf1y4xyP3",
        "colab_type": "text"
      },
      "source": [
        "# Combining the Sections"
      ]
    },
    {
      "cell_type": "code",
      "metadata": {
        "id": "1Z2s-vpVxyP7",
        "colab_type": "code",
        "colab": {}
      },
      "source": [
        "concatenated = layers.concatenate([last_dense, last_project_essay_1, last_embedded_project_resource_summary], axis=-1)\n",
        "x = layers.Dense(200, activation='relu')(concatenated)\n",
        "x = layers.Dense(20, activation='relu')(x)\n",
        "output_combined = layers.Dense(1, activation='sigmoid')(x)"
      ],
      "execution_count": null,
      "outputs": []
    },
    {
      "cell_type": "markdown",
      "metadata": {
        "id": "7xTPZJunxyQD",
        "colab_type": "text"
      },
      "source": [
        "# Dense Only Model"
      ]
    },
    {
      "cell_type": "code",
      "metadata": {
        "id": "T34lLW0mxyQF",
        "colab_type": "code",
        "colab": {}
      },
      "source": [
        "model_dense_only = Model(dense_input, output_dense_only)\n",
        "model_dense_only.compile(optimizer='rmsprop', loss='binary_crossentropy', metrics=['acc'])"
      ],
      "execution_count": null,
      "outputs": []
    },
    {
      "cell_type": "code",
      "metadata": {
        "id": "Zcb_WQi8xyQO",
        "colab_type": "code",
        "colab": {}
      },
      "source": [
        "history_dense_only = model_dense_only.fit({'dense_input': data_dense_model.values}, outputs, epochs=10, batch_size=128, validation_split=0.2)"
      ],
      "execution_count": null,
      "outputs": []
    },
    {
      "cell_type": "code",
      "metadata": {
        "id": "hQwM9e4YxyQX",
        "colab_type": "code",
        "colab": {}
      },
      "source": [
        "loss = history_dense_only.history['loss']\n",
        "val_loss = history_dense_only.history['val_loss']\n",
        "epochs = range(1, len(loss) + 1)\n",
        "plt.figure()\n",
        "plt.plot(epochs, loss, 'bo', label='Training loss')\n",
        "plt.plot(epochs, val_loss, 'b', label='Validation loss')\n",
        "plt.title('Training and validation loss')\n",
        "plt.legend()\n",
        "plt.show()"
      ],
      "execution_count": null,
      "outputs": []
    },
    {
      "cell_type": "markdown",
      "metadata": {
        "id": "g-EJpkg_xyQp",
        "colab_type": "text"
      },
      "source": [
        "# Combined Model"
      ]
    },
    {
      "cell_type": "code",
      "metadata": {
        "id": "YB5iD4gNxyQr",
        "colab_type": "code",
        "colab": {}
      },
      "source": [
        "model_combined = Model({'project_essay_1': project_essay_1_input, 'project_resource_summary': project_resource_summary_input,\n",
        "                        'dense_input': dense_input}, output_dense_only)\n",
        "model_combined.compile(optimizer='rmsprop', loss='binary_crossentropy', metrics=['acc'])"
      ],
      "execution_count": null,
      "outputs": []
    },
    {
      "cell_type": "code",
      "metadata": {
        "id": "FNlgKPnUxyQz",
        "colab_type": "code",
        "colab": {},
        "outputId": "bc24acd4-4cdb-43a4-bed3-7fb7ef2b5359"
      },
      "source": [
        "history_combined = model_combined.fit({'project_essay_1': project_essay_1_token, 'project_resource_summary': project_resource_summary_token, 'dense_input': data_dense_model.values}, outputs, epochs=10, batch_size=128, validation_split=0.2)"
      ],
      "execution_count": null,
      "outputs": [
        {
          "output_type": "stream",
          "text": [
            "Train on 145664 samples, validate on 36416 samples\n",
            "Epoch 1/10\n",
            "145664/145664 [==============================] - 2s 14us/sample - loss: 1.1459 - acc: 0.7666 - val_loss: 0.4364 - val_acc: 0.8481\n",
            "Epoch 2/10\n",
            "145664/145664 [==============================] - 2s 11us/sample - loss: 0.5568 - acc: 0.8247 - val_loss: 0.4781 - val_acc: 0.8481\n",
            "Epoch 3/10\n",
            "145664/145664 [==============================] - 2s 11us/sample - loss: 0.4568 - acc: 0.8449 - val_loss: 0.4588 - val_acc: 0.8481\n",
            "Epoch 4/10\n",
            "145664/145664 [==============================] - 2s 12us/sample - loss: 0.4400 - acc: 0.8476 - val_loss: 0.4282 - val_acc: 0.8481\n",
            "Epoch 5/10\n",
            "145664/145664 [==============================] - 2s 11us/sample - loss: 0.4339 - acc: 0.8476 - val_loss: 0.4375 - val_acc: 0.8481\n",
            "Epoch 6/10\n",
            "145664/145664 [==============================] - 2s 11us/sample - loss: 0.4317 - acc: 0.8476 - val_loss: 0.4267 - val_acc: 0.8481\n",
            "Epoch 7/10\n",
            "145664/145664 [==============================] - 2s 12us/sample - loss: 0.4303 - acc: 0.8476 - val_loss: 0.4281 - val_acc: 0.8481\n",
            "Epoch 8/10\n",
            "145664/145664 [==============================] - 2s 12us/sample - loss: 0.4292 - acc: 0.8476 - val_loss: 0.4293 - val_acc: 0.8481\n",
            "Epoch 9/10\n",
            "145664/145664 [==============================] - 2s 12us/sample - loss: 0.4290 - acc: 0.8476 - val_loss: 0.4284 - val_acc: 0.8481\n",
            "Epoch 10/10\n",
            "145664/145664 [==============================] - 2s 12us/sample - loss: 0.4284 - acc: 0.8476 - val_loss: 0.4268 - val_acc: 0.8481\n"
          ],
          "name": "stdout"
        }
      ]
    },
    {
      "cell_type": "code",
      "metadata": {
        "id": "oZQ9xi-NxyRC",
        "colab_type": "code",
        "colab": {},
        "outputId": "8baa81c0-d744-4523-d814-d2b8371692d8"
      },
      "source": [
        "loss = history_combined.history['loss']\n",
        "val_loss = history_combined.history['val_loss']\n",
        "epochs = range(1, len(loss) + 1)\n",
        "plt.figure()\n",
        "plt.plot(epochs, loss, 'bo', label='Training loss')\n",
        "plt.plot(epochs, val_loss, 'b', label='Validation loss')\n",
        "plt.title('Training and validation loss')\n",
        "plt.legend()\n",
        "plt.show()"
      ],
      "execution_count": null,
      "outputs": [
        {
          "output_type": "display_data",
          "data": {
            "image/png": "[encoded data removed]",
            "text/plain": [
              "<Figure size 432x288 with 1 Axes>"
            ]
          },
          "metadata": {
            "tags": [],
            "needs_background": "light"
          }
        }
      ]
    }
  ]
}