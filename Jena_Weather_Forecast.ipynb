{
  "nbformat": 4,
  "nbformat_minor": 0,
  "metadata": {
    "colab": {
      "name": "Jena Weather Forecast.ipynb",
      "provenance": [],
      "collapsed_sections": [],
      "authorship_tag": "ABX9TyNP/uE+IK4+bZf4Y+C8TvC5",
      "include_colab_link": true
    },
    "kernelspec": {
      "name": "python3",
      "display_name": "Python 3"
    }
  },
  "cells": [
    {
      "cell_type": "markdown",
      "metadata": {
        "id": "view-in-github",
        "colab_type": "text"
      },
      "source": [
        "<a href=\"https://colab.research.google.com/github/SANAMAREEN/Project1/blob/master/Jena_Weather_Forecast.ipynb\" target=\"_parent\"><img src=\"https://colab.research.google.com/assets/colab-badge.svg\" alt=\"Open In Colab\"/></a>"
      ]
    },
    {
      "cell_type": "code",
      "metadata": {
        "id": "q2juS15uRfa_",
        "colab_type": "code",
        "colab": {}
      },
      "source": [
        "from google.colab import drive"
      ],
      "execution_count": null,
      "outputs": []
    },
    {
      "cell_type": "code",
      "metadata": {
        "id": "9w4sUMi4R-Eb",
        "colab_type": "code",
        "colab": {
          "base_uri": "https://localhost:8080/",
          "height": 120
        },
        "outputId": "5d9cb07b-3569-443c-ba9c-64567787ae01"
      },
      "source": [
        "drive.mount(\"/content/gdrive\")"
      ],
      "execution_count": null,
      "outputs": [
        {
          "output_type": "stream",
          "text": [
            "Go to this URL in a browser: https://accounts.google.com/o/oauth2/auth?client_id=947318989803-6bn6qk8qdgf4n4g3pfee6491hc0brc4i.apps.googleusercontent.com&redirect_uri=urn%3aietf%3awg%3aoauth%3a2.0%3aoob&response_type=code&scope=email%20https%3a%2f%2fwww.googleapis.com%2fauth%2fdocs.test%20https%3a%2f%2fwww.googleapis.com%2fauth%2fdrive%20https%3a%2f%2fwww.googleapis.com%2fauth%2fdrive.photos.readonly%20https%3a%2f%2fwww.googleapis.com%2fauth%2fpeopleapi.readonly\n",
            "\n",
            "Enter your authorization code:\n",
            "··········\n",
            "Mounted at /content/gdrive\n"
          ],
          "name": "stdout"
        }
      ]
    },
    {
      "cell_type": "code",
      "metadata": {
        "id": "FDnBnftYR4as",
        "colab_type": "code",
        "colab": {
          "base_uri": "https://localhost:8080/",
          "height": 70
        },
        "outputId": "064a7a11-fe3e-4bba-b257-686b7e85c167"
      },
      "source": [
        "import os\n",
        "data_dir = '/content/gdrive/My Drive'\n",
        "fname = os.path.join(data_dir, 'jena_climate_2009_2016.csv')\n",
        "f = open(fname)\n",
        "data = f.read()\n",
        "f.close()\n",
        "lines = data.split('\\n')\n",
        "header = lines[0].split(',')\n",
        "lines = lines[1:]\n",
        "print(header)\n",
        "print(len(lines))"
      ],
      "execution_count": null,
      "outputs": [
        {
          "output_type": "stream",
          "text": [
            "['\"Date Time\"', '\"p (mbar)\"', '\"T (degC)\"', '\"Tpot (K)\"', '\"Tdew (degC)\"', '\"rh (%)\"', '\"VPmax (mbar)\"', '\"VPact (mbar)\"', '\"VPdef (mbar)\"', '\"sh (g/kg)\"', '\"H2OC (mmol/mol)\"', '\"rho (g/m**3)\"', '\"wv (m/s)\"', '\"max. wv (m/s)\"', '\"wd (deg)\"']\n",
            "420551\n"
          ],
          "name": "stdout"
        }
      ]
    },
    {
      "cell_type": "code",
      "metadata": {
        "id": "n9usY2tNSPJ6",
        "colab_type": "code",
        "colab": {}
      },
      "source": [
        "import numpy as np\n",
        "float_data = np.zeros((len(lines), len(header) - 1))\n",
        "for i, line in enumerate(lines):\n",
        "  values = [float(x) for x in line.split(',')[1:]]\n",
        "  float_data[i, :] = values"
      ],
      "execution_count": null,
      "outputs": []
    },
    {
      "cell_type": "code",
      "metadata": {
        "id": "6s4dAQJWSYOK",
        "colab_type": "code",
        "colab": {}
      },
      "source": [
        "mean = float_data[:200000].mean(axis=0)\n",
        "float_data -= mean\n",
        "std = float_data[:200000].std(axis=0)\n",
        "float_data /= std"
      ],
      "execution_count": null,
      "outputs": []
    },
    {
      "cell_type": "code",
      "metadata": {
        "id": "M2QWe7z3SbUK",
        "colab_type": "code",
        "colab": {}
      },
      "source": [
        "def generator(data, lookback, delay, min_index, max_index,\n",
        "shuffle=False, batch_size=128, step=6):\n",
        "  if max_index is None:\n",
        "    max_index = len(data) - delay - 1\n",
        "  i = min_index + lookback\n",
        "  while 1:\n",
        "    if shuffle:\n",
        "      rows = np.random.randint(\n",
        "      min_index + lookback, max_index, size=batch_size)\n",
        "  else:\n",
        "    if i + batch_size >= max_index:\n",
        "      i = min_index + lookback\n",
        "      rows = np.arange(i, min(i + batch_size, max_index))\n",
        "      i += len(rows)\n",
        "      samples = np.zeros((len(rows),\n",
        "      lookback // step,\n",
        "      data.shape[-1]))\n",
        "      targets = np.zeros((len(rows),))\n",
        "      for j, row in enumerate(rows):\n",
        "        indices = range(rows[j] - lookback, rows[j], step)\n",
        "        samples[j] = data[indices]\n",
        "        targets[j] = data[rows[j] + delay][1]\n",
        "      yield samples, targets"
      ],
      "execution_count": null,
      "outputs": []
    },
    {
      "cell_type": "code",
      "metadata": {
        "id": "O-5ELc1eSeKa",
        "colab_type": "code",
        "colab": {}
      },
      "source": [
        "lookback = 1440\n",
        "step = 6\n",
        "delay = 144\n",
        "batch_size = 128\n",
        "train_gen = generator(float_data,\n",
        "lookback=lookback,\n",
        "delay=delay,\n",
        "min_index=0,\n",
        "max_index=200000,\n",
        "shuffle=True,\n",
        "step=step,\n",
        "batch_size=batch_size)\n",
        "val_gen = generator(float_data,\n",
        "lookback=lookback,\n",
        "delay=delay,\n",
        "min_index=200001,\n",
        "max_index=300000,\n",
        "step=step,\n",
        "batch_size=batch_size)\n",
        "test_gen = generator(float_data,\n",
        "lookback=lookback,\n",
        "delay=delay,\n",
        "min_index=300001,\n",
        "max_index=None,\n",
        "step=step,\n",
        "batch_size=batch_size)\n",
        "val_steps = (300000 - 200001 - lookback)\n",
        "test_steps = (len(float_data) - 300001 - lookback)\n"
      ],
      "execution_count": null,
      "outputs": []
    },
    {
      "cell_type": "code",
      "metadata": {
        "id": "ZHpQb3fqSjgS",
        "colab_type": "code",
        "colab": {
          "base_uri": "https://localhost:8080/",
          "height": 33
        },
        "outputId": "c0786ad1-749b-4ab9-ea11-515dc47568a8"
      },
      "source": [
        "#A basic Neural Nework\n",
        "from keras.models import Sequential\n",
        "from keras import layers\n",
        "from keras.optimizers import RMSprop\n",
        "model = Sequential()\n",
        "model.add(layers.Flatten(input_shape=(lookback // step, float_data.shape[-1])))\n",
        "model.add(layers.Dense(32, activation='relu'))\n",
        "model.add(layers.Dense(1))"
      ],
      "execution_count": null,
      "outputs": [
        {
          "output_type": "stream",
          "text": [
            "Using TensorFlow backend.\n"
          ],
          "name": "stderr"
        }
      ]
    },
    {
      "cell_type": "code",
      "metadata": {
        "id": "Zc-YJ2DYSt4L",
        "colab_type": "code",
        "colab": {}
      },
      "source": [
        "model.compile(optimizer=RMSprop(), loss='mae')\n",
        "history = model.fit_generator(train_gen,\n",
        "steps_per_epoch=500,\n",
        "epochs=20,\n",
        "validation_data=val_gen,\n",
        "validation_steps=val_steps)\n"
      ],
      "execution_count": null,
      "outputs": []
    },
    {
      "cell_type": "code",
      "metadata": {
        "id": "1bMBxiS4Sv7D",
        "colab_type": "code",
        "colab": {}
      },
      "source": [
        "import matplotlib.pyplot as plt\n",
        "loss = history.history['loss']\n",
        "val_loss = history.history['val_loss']\n",
        "epochs = range(1, len(loss) + 1)\n",
        "plt.figure()\n",
        "plt.plot(epochs, loss, 'bo', label='Training loss')\n",
        "plt.plot(epochs, val_loss, 'b', label='Validation loss')\n",
        "plt.title('Training and validation loss')\n",
        "plt.legend()\n",
        "plt.show()"
      ],
      "execution_count": null,
      "outputs": []
    },
    {
      "cell_type": "code",
      "metadata": {
        "id": "RIX8HAwES7-K",
        "colab_type": "code",
        "colab": {}
      },
      "source": [
        "#A recurrent APproach\n",
        "from keras.models import Sequential\n",
        "from keras import layers\n",
        "from keras.optimizers import RMSprop\n",
        "model = Sequential()\n",
        "model.add(layers.GRU(32, input_shape=(None, float_data.shape[-1])))\n",
        "model.add(layers.Dense(1))\n",
        "model.compile(optimizer=RMSprop(), loss='mae')\n",
        "history = model.fit_generator(train_gen,\n",
        "steps_per_epoch=500,\n",
        "epochs=20,\n",
        "validation_data=val_gen,\n",
        "validation_steps=val_steps)"
      ],
      "execution_count": null,
      "outputs": []
    },
    {
      "cell_type": "code",
      "metadata": {
        "id": "iSqWEkVgTB_D",
        "colab_type": "code",
        "colab": {}
      },
      "source": [
        "#Adding dropout\n",
        "from keras.models import Sequential\n",
        "from keras import layers\n",
        "from keras.optimizers import RMSprop\n",
        "model = Sequential()\n",
        "model.add(layers.GRU(32,\n",
        "dropout=0.2,\n",
        "recurrent_dropout=0.2,\n",
        "input_shape=(None, float_data.shape[-1])))\n",
        "model.add(layers.Dense(1))\n",
        "model.compile(optimizer=RMSprop(), loss='mae')\n",
        "history = model.fit_generator(train_gen,\n",
        "steps_per_epoch=500,\n",
        "epochs=40,\n",
        "validation_data=val_gen,\n",
        "validation_steps=val_steps)"
      ],
      "execution_count": null,
      "outputs": []
    },
    {
      "cell_type": "code",
      "metadata": {
        "id": "JFWBF6dNTHsL",
        "colab_type": "code",
        "colab": {}
      },
      "source": [
        "#Using  a GRU\n",
        "from keras.models import Sequential\n",
        "from keras import layers\n",
        "from keras.optimizers import RMSprop\n",
        "model = Sequential()\n",
        "model.add(layers.GRU(32,\n",
        "dropout=0.1,\n",
        "recurrent_dropout=0.5,\n",
        "return_sequences=True,\n",
        "input_shape=(None, float_data.shape[-1])))\n",
        "model.add(layers.GRU(64, activation='relu',\n",
        "dropout=0.1,\n",
        "recurrent_dropout=0.5))\n",
        "model.add(layers.Dense(1))\n",
        "model.compile(optimizer=RMSprop(), loss='mae')\n",
        "history = model.fit_generator(train_gen,\n",
        "steps_per_epoch=500,\n",
        "epochs=40,\n",
        "validation_data=val_gen,\n",
        "validation_steps=val_steps)\n"
      ],
      "execution_count": null,
      "outputs": []
    }
  ]
}